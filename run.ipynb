{
 "cells": [
  {
   "cell_type": "markdown",
   "metadata": {},
   "source": [
    "# Imports"
   ]
  },
  {
   "cell_type": "code",
   "execution_count": 1,
   "metadata": {},
   "outputs": [],
   "source": [
    "from unityagents import UnityEnvironment\n",
    "import numpy as np\n",
    "from collections import deque\n",
    "import matplotlib.pyplot as plt\n",
    "\n",
    "plt.ion() # Turn on interactive mode on plots\n",
    "\n",
    "# PyTorch imports\n",
    "import torch"
   ]
  },
  {
   "cell_type": "markdown",
   "metadata": {},
   "source": [
    "# Starting the environment\n",
    "\n",
    "Next, we will start the environment!  **_Before running the code cell below_**, change the `file_name` parameter to match the location of the Unity environment that you downloaded.\n",
    "\n",
    "- **Mac**: `\"path/to/Reacher.app\"`\n",
    "- **Windows** (x86): `\"path/to/Reacher_Windows_x86/Reacher.exe\"`\n",
    "- **Windows** (x86_64): `\"path/to/Reacher_Windows_x86_64/Reacher.exe\"`\n",
    "- **Linux** (x86): `\"path/to/Reacher_Linux/Reacher.x86\"`\n",
    "- **Linux** (x86_64): `\"path/to/Reacher_Linux/Reacher.x86_64\"`\n",
    "- **Linux** (x86, headless): `\"path/to/Reacher_Linux_NoVis/Reacher.x86\"`\n",
    "- **Linux** (x86_64, headless): `\"path/to/Reacher_Linux_NoVis/Reacher.x86_64\"`\n",
    "\n",
    "For instance, if you are using a Mac, then you downloaded `Reacher.app`.  If this file is in the same folder as the notebook, then the line below should appear as follows:\n",
    "```\n",
    "env = UnityEnvironment(file_name=\"Reacher.app\")\n",
    "```"
   ]
  },
  {
   "cell_type": "code",
   "execution_count": 2,
   "metadata": {},
   "outputs": [
    {
     "name": "stderr",
     "output_type": "stream",
     "text": [
      "INFO:unityagents:\n",
      "'Academy' started successfully!\n",
      "Unity Academy name: Academy\n",
      "        Number of Brains: 1\n",
      "        Number of External Brains : 1\n",
      "        Lesson number : 0\n",
      "        Reset Parameters :\n",
      "\t\t\n",
      "Unity brain name: TennisBrain\n",
      "        Number of Visual Observations (per agent): 0\n",
      "        Vector Observation space type: continuous\n",
      "        Vector Observation space size (per agent): 8\n",
      "        Number of stacked Vector Observation: 3\n",
      "        Vector Action space type: continuous\n",
      "        Vector Action space size (per agent): 2\n",
      "        Vector Action descriptions: , \n"
     ]
    }
   ],
   "source": [
    "env = UnityEnvironment(file_name=\"C:/Users/chris/git/deep-reinforcement-learning/p3_collab-compet/Tennis_Windows_x86_64/Tennis_Windows_x86_64/Tennis.exe\")"
   ]
  },
  {
   "cell_type": "markdown",
   "metadata": {},
   "source": [
    "# Environment Setup"
   ]
  },
  {
   "cell_type": "code",
   "execution_count": 3,
   "metadata": {},
   "outputs": [],
   "source": [
    "# get the default brain\n",
    "brain_name = env.brain_names[0]\n",
    "brain = env.brains[brain_name]\n",
    "\n",
    "# reset the environment\n",
    "env_info = env.reset(train_mode=False)[brain_name]\n",
    "\n",
    "# number of agents\n",
    "num_agents = len(env_info.agents)\n",
    "#print('Number of agents:', num_agents)\n",
    "\n",
    "# size of each action\n",
    "action_size = brain.vector_action_space_size\n",
    "#print('Size of each action:', action_size)\n",
    "\n",
    "# examine the state space \n",
    "states = env_info.vector_observations\n",
    "state_size = states.shape[1]\n",
    "#print('There are {} agents. Each observes a state with length: {}'.format(states.shape[0], state_size))\n",
    "#print('The state for the first agent looks like:', states[0])"
   ]
  },
  {
   "cell_type": "markdown",
   "metadata": {},
   "source": [
    "## Implementation imports"
   ]
  },
  {
   "cell_type": "code",
   "execution_count": 4,
   "metadata": {},
   "outputs": [],
   "source": [
    "# Auto load changes in the imported files\n",
    "%load_ext autoreload\n",
    "%autoreload 2"
   ]
  },
  {
   "cell_type": "code",
   "execution_count": 31,
   "metadata": {},
   "outputs": [],
   "source": [
    "from ddpg.src.agent import DDPG_Agent, MADDPG_Agent\n",
    "from ddpg.src.ddpg import ddpg_show, ddpg_train"
   ]
  },
  {
   "cell_type": "markdown",
   "metadata": {},
   "source": [
    "### Define a DDPG-agent"
   ]
  },
  {
   "cell_type": "code",
   "execution_count": 39,
   "metadata": {},
   "outputs": [],
   "source": [
    "actor_hidden_layers = [50, 50]\n",
    "critic_hidden_layers = [50, 50]\n",
    "agent1 = DDPG_Agent(state_size, action_size, num_agents, 0, actor_hidden_layers, critic_hidden_layers, use_batch_norm=True)"
   ]
  },
  {
   "cell_type": "markdown",
   "metadata": {},
   "source": [
    "### Train the DDPG-agent"
   ]
  },
  {
   "cell_type": "code",
   "execution_count": 40,
   "metadata": {},
   "outputs": [
    {
     "name": "stdout",
     "output_type": "stream",
     "text": [
      "Episode 10\tAverage Score: 0.00\tAverage last 100 episodes: 0.00\n",
      "Episode 20\tAverage Score: -0.00\tAverage last 100 episodes: -0.00\n",
      "Episode 30\tAverage Score: -0.00\tAverage last 100 episodes: -0.00\n",
      "Episode 40\tAverage Score: -0.00\tAverage last 100 episodes: -0.00\n",
      "Episode 50\tAverage Score: -0.00\tAverage last 100 episodes: -0.00\n",
      "Episode 60\tAverage Score: -0.00\tAverage last 100 episodes: -0.00\n",
      "Episode 70\tAverage Score: -0.00\tAverage last 100 episodes: -0.00\n",
      "Episode 80\tAverage Score: -0.00\tAverage last 100 episodes: -0.00\n",
      "Episode 90\tAverage Score: -0.00\tAverage last 100 episodes: -0.00\n",
      "Episode 100\tAverage Score: -0.00\tAverage last 100 episodes: -0.00\n",
      "Episode 110\tAverage Score: -0.00\tAverage last 100 episodes: -0.00\n",
      "Episode 120\tAverage Score: -0.00\tAverage last 100 episodes: -0.00\n",
      "Episode 130\tAverage Score: -0.00\tAverage last 100 episodes: -0.00\n",
      "Episode 140\tAverage Score: -0.00\tAverage last 100 episodes: -0.00\n",
      "Episode 150\tAverage Score: -0.00\tAverage last 100 episodes: -0.00\n",
      "Episode 160\tAverage Score: -0.00\tAverage last 100 episodes: -0.00\n",
      "Episode 170\tAverage Score: -0.00\tAverage last 100 episodes: -0.00\n",
      "Episode 180\tAverage Score: -0.00\tAverage last 100 episodes: -0.00\n",
      "Episode 190\tAverage Score: -0.00\tAverage last 100 episodes: -0.00\n",
      "Episode 200\tAverage Score: -0.00\tAverage last 100 episodes: -0.00\n",
      "Episode 210\tAverage Score: -0.00\tAverage last 100 episodes: -0.00\n",
      "Episode 220\tAverage Score: -0.00\tAverage last 100 episodes: -0.00\n",
      "Episode 230\tAverage Score: -0.00\tAverage last 100 episodes: -0.00\n",
      "Episode 240\tAverage Score: -0.00\tAverage last 100 episodes: -0.00\n",
      "Episode 250\tAverage Score: -0.00\tAverage last 100 episodes: -0.00\n",
      "Episode 260\tAverage Score: -0.00\tAverage last 100 episodes: -0.00\n",
      "Episode 270\tAverage Score: -0.00\tAverage last 100 episodes: -0.00\n",
      "Episode 280\tAverage Score: -0.00\tAverage last 100 episodes: -0.00\n",
      "Episode 290\tAverage Score: -0.00\tAverage last 100 episodes: -0.00\n",
      "Episode 300\tAverage Score: -0.00\tAverage last 100 episodes: -0.00\n",
      "Episode 310\tAverage Score: -0.00\tAverage last 100 episodes: -0.00\n",
      "Episode 320\tAverage Score: -0.00\tAverage last 100 episodes: -0.00\n",
      "Episode 330\tAverage Score: -0.00\tAverage last 100 episodes: -0.00\n",
      "Episode 340\tAverage Score: -0.00\tAverage last 100 episodes: -0.00\n",
      "Episode 350\tAverage Score: -0.00\tAverage last 100 episodes: -0.00\n",
      "Episode 360\tAverage Score: -0.00\tAverage last 100 episodes: -0.00\n",
      "Episode 370\tAverage Score: -0.00\tAverage last 100 episodes: -0.00\n",
      "Episode 380\tAverage Score: -0.00\tAverage last 100 episodes: -0.00\n",
      "Episode 390\tAverage Score: -0.00\tAverage last 100 episodes: -0.00\n",
      "Episode 400\tAverage Score: -0.00\tAverage last 100 episodes: -0.00\n",
      "Episode 410\tAverage Score: -0.00\tAverage last 100 episodes: -0.00\n",
      "Episode 420\tAverage Score: -0.00\tAverage last 100 episodes: -0.00\n",
      "Episode 430\tAverage Score: -0.00\tAverage last 100 episodes: -0.00\n",
      "Episode 440\tAverage Score: -0.00\tAverage last 100 episodes: -0.00\n",
      "Episode 450\tAverage Score: 0.01\tAverage last 100 episodes: -0.00\n",
      "Episode 460\tAverage Score: 0.01\tAverage last 100 episodes: -0.00\n",
      "Episode 470\tAverage Score: -0.00\tAverage last 100 episodes: -0.00\n",
      "Episode 480\tAverage Score: -0.00\tAverage last 100 episodes: -0.00\n",
      "Episode 490\tAverage Score: 0.01\tAverage last 100 episodes: -0.00\n",
      "Episode 500\tAverage Score: 0.01\tAverage last 100 episodes: 0.00\n",
      "Episode 510\tAverage Score: 0.00\tAverage last 100 episodes: 0.00\n",
      "Episode 520\tAverage Score: 0.00\tAverage last 100 episodes: 0.00\n",
      "Episode 530\tAverage Score: 0.01\tAverage last 100 episodes: 0.00\n",
      "Episode 540\tAverage Score: 0.01\tAverage last 100 episodes: 0.00\n",
      "Episode 550\tAverage Score: 0.01\tAverage last 100 episodes: 0.00\n",
      "Episode 560\tAverage Score: 0.01\tAverage last 100 episodes: 0.00\n",
      "Episode 570\tAverage Score: 0.02\tAverage last 100 episodes: 0.01\n",
      "Episode 580\tAverage Score: 0.04\tAverage last 100 episodes: 0.01\n",
      "Episode 590\tAverage Score: 0.04\tAverage last 100 episodes: 0.01\n",
      "Episode 600\tAverage Score: 0.02\tAverage last 100 episodes: 0.01\n",
      "Episode 610\tAverage Score: 0.01\tAverage last 100 episodes: 0.02\n",
      "Episode 620\tAverage Score: 0.02\tAverage last 100 episodes: 0.02\n",
      "Episode 630\tAverage Score: 0.03\tAverage last 100 episodes: 0.02\n",
      "Episode 640\tAverage Score: 0.05\tAverage last 100 episodes: 0.03\n",
      "Episode 650\tAverage Score: 0.04\tAverage last 100 episodes: 0.03\n",
      "Episode 660\tAverage Score: 0.03\tAverage last 100 episodes: 0.03\n",
      "Episode 670\tAverage Score: 0.02\tAverage last 100 episodes: 0.03\n",
      "Episode 680\tAverage Score: 0.02\tAverage last 100 episodes: 0.03\n",
      "Episode 690\tAverage Score: 0.02\tAverage last 100 episodes: 0.02\n",
      "Episode 700\tAverage Score: 0.02\tAverage last 100 episodes: 0.03\n",
      "Episode 710\tAverage Score: 0.02\tAverage last 100 episodes: 0.03\n",
      "Episode 720\tAverage Score: 0.02\tAverage last 100 episodes: 0.03\n",
      "Episode 730\tAverage Score: 0.01\tAverage last 100 episodes: 0.02\n",
      "Episode 740\tAverage Score: 0.02\tAverage last 100 episodes: 0.02\n",
      "Episode 750\tAverage Score: 0.02\tAverage last 100 episodes: 0.02\n",
      "Episode 760\tAverage Score: 0.02\tAverage last 100 episodes: 0.02\n",
      "Episode 770\tAverage Score: 0.03\tAverage last 100 episodes: 0.02\n",
      "Episode 780\tAverage Score: 0.03\tAverage last 100 episodes: 0.02\n",
      "Episode 790\tAverage Score: 0.01\tAverage last 100 episodes: 0.02\n",
      "Episode 800\tAverage Score: 0.01\tAverage last 100 episodes: 0.02\n",
      "Episode 810\tAverage Score: 0.02\tAverage last 100 episodes: 0.02\n",
      "Episode 820\tAverage Score: 0.02\tAverage last 100 episodes: 0.02\n",
      "Episode 830\tAverage Score: 0.03\tAverage last 100 episodes: 0.02\n",
      "Episode 840\tAverage Score: 0.03\tAverage last 100 episodes: 0.02\n",
      "Episode 850\tAverage Score: 0.02\tAverage last 100 episodes: 0.02\n",
      "Episode 860\tAverage Score: 0.02\tAverage last 100 episodes: 0.02\n",
      "Episode 870\tAverage Score: 0.02\tAverage last 100 episodes: 0.02\n",
      "Episode 880\tAverage Score: 0.03\tAverage last 100 episodes: 0.02\n",
      "Episode 890\tAverage Score: 0.03\tAverage last 100 episodes: 0.02\n",
      "Episode 900\tAverage Score: 0.02\tAverage last 100 episodes: 0.02\n",
      "Episode 910\tAverage Score: 0.02\tAverage last 100 episodes: 0.02\n",
      "Episode 920\tAverage Score: 0.02\tAverage last 100 episodes: 0.02\n",
      "Episode 930\tAverage Score: 0.02\tAverage last 100 episodes: 0.02\n",
      "Episode 940\tAverage Score: 0.02\tAverage last 100 episodes: 0.02\n",
      "Episode 950\tAverage Score: 0.03\tAverage last 100 episodes: 0.02\n",
      "Episode 960\tAverage Score: 0.01\tAverage last 100 episodes: 0.02\n",
      "Episode 970\tAverage Score: 0.01\tAverage last 100 episodes: 0.02\n",
      "Episode 980\tAverage Score: 0.02\tAverage last 100 episodes: 0.02\n",
      "Episode 990\tAverage Score: 0.02\tAverage last 100 episodes: 0.02\n",
      "Episode 1000\tAverage Score: 0.02\tAverage last 100 episodes: 0.02\n",
      "Episode 1010\tAverage Score: 0.02\tAverage last 100 episodes: 0.02\n",
      "Episode 1020\tAverage Score: 0.04\tAverage last 100 episodes: 0.02\n",
      "Episode 1030\tAverage Score: 0.06\tAverage last 100 episodes: 0.03\n",
      "Episode 1040\tAverage Score: 0.05\tAverage last 100 episodes: 0.03\n",
      "Episode 1050\tAverage Score: 0.04\tAverage last 100 episodes: 0.03\n",
      "Episode 1060\tAverage Score: 0.04\tAverage last 100 episodes: 0.03\n",
      "Episode 1070\tAverage Score: 0.03\tAverage last 100 episodes: 0.03\n",
      "Episode 1080\tAverage Score: 0.06\tAverage last 100 episodes: 0.04\n",
      "Episode 1090\tAverage Score: 0.07\tAverage last 100 episodes: 0.04\n",
      "Episode 1100\tAverage Score: 0.04\tAverage last 100 episodes: 0.04\n",
      "Episode 1110\tAverage Score: 0.02\tAverage last 100 episodes: 0.04\n",
      "Episode 1120\tAverage Score: 0.03\tAverage last 100 episodes: 0.04\n",
      "Episode 1130\tAverage Score: 0.04\tAverage last 100 episodes: 0.04\n",
      "Episode 1140\tAverage Score: 0.05\tAverage last 100 episodes: 0.04\n",
      "Episode 1150\tAverage Score: 0.05\tAverage last 100 episodes: 0.04\n",
      "Episode 1160\tAverage Score: 0.05\tAverage last 100 episodes: 0.04\n",
      "Episode 1170\tAverage Score: 0.05\tAverage last 100 episodes: 0.05\n",
      "Episode 1180\tAverage Score: 0.05\tAverage last 100 episodes: 0.04\n",
      "Episode 1190\tAverage Score: 0.05\tAverage last 100 episodes: 0.04\n",
      "Episode 1200\tAverage Score: 0.04\tAverage last 100 episodes: 0.04\n",
      "Episode 1210\tAverage Score: 0.04\tAverage last 100 episodes: 0.05\n",
      "Episode 1220\tAverage Score: 0.05\tAverage last 100 episodes: 0.05\n",
      "Episode 1230\tAverage Score: 0.04\tAverage last 100 episodes: 0.05\n",
      "Episode 1240\tAverage Score: 0.05\tAverage last 100 episodes: 0.05\n",
      "Episode 1250\tAverage Score: 0.05\tAverage last 100 episodes: 0.05\n",
      "Episode 1260\tAverage Score: 0.06\tAverage last 100 episodes: 0.05\n",
      "Episode 1270\tAverage Score: 0.07\tAverage last 100 episodes: 0.05\n"
     ]
    },
    {
     "name": "stdout",
     "output_type": "stream",
     "text": [
      "Episode 1280\tAverage Score: 0.06\tAverage last 100 episodes: 0.05\n",
      "Episode 1290\tAverage Score: 0.08\tAverage last 100 episodes: 0.06\n",
      "Episode 1300\tAverage Score: 0.10\tAverage last 100 episodes: 0.06\n",
      "Episode 1310\tAverage Score: 0.08\tAverage last 100 episodes: 0.06\n",
      "Episode 1320\tAverage Score: 0.09\tAverage last 100 episodes: 0.07\n",
      "Episode 1330\tAverage Score: 0.15\tAverage last 100 episodes: 0.09\n",
      "Episode 1340\tAverage Score: 0.30\tAverage last 100 episodes: 0.12\n",
      "Episode 1350\tAverage Score: 0.41\tAverage last 100 episodes: 0.16\n",
      "Episode 1360\tAverage Score: 0.39\tAverage last 100 episodes: 0.19\n",
      "Episode 1370\tAverage Score: 0.68\tAverage last 100 episodes: 0.28\n",
      "Episode 1380\tAverage Score: 1.42\tAverage last 100 episodes: 0.46\n",
      "\n",
      "Environment solved in 1282 episodes!\tAverage Score: 0.51\n",
      "Episode 1390\tAverage Score: 2.24\tAverage last 100 episodes: 0.71\n",
      "Episode 1400\tAverage Score: 2.63\tAverage last 100 episodes: 0.96\n",
      "Episode 1410\tAverage Score: 2.50\tAverage last 100 episodes: 1.19\n",
      "Episode 1420\tAverage Score: 2.13\tAverage last 100 episodes: 1.37\n",
      "Episode 1430\tAverage Score: 1.32\tAverage last 100 episodes: 1.43\n",
      "Episode 1440\tAverage Score: 1.00\tAverage last 100 episodes: 1.51\n",
      "Episode 1450\tAverage Score: 0.72\tAverage last 100 episodes: 1.49\n",
      "Episode 1460\tAverage Score: 1.01\tAverage last 100 episodes: 1.64\n",
      "Episode 1470\tAverage Score: 1.64\tAverage last 100 episodes: 1.68\n",
      "Episode 1480\tAverage Score: 1.86\tAverage last 100 episodes: 1.72\n",
      "Episode 1490\tAverage Score: 1.58\tAverage last 100 episodes: 1.55\n",
      "Episode 1500\tAverage Score: 0.48\tAverage last 100 episodes: 1.30\n",
      "Finished training\n"
     ]
    }
   ],
   "source": [
    "#(agent, env, brain_name, num_agents, actor_model_name, critic_model_name, target_reward, min_noise_coef = 0.05, n_episodes=3000, max_steps=1000, multi_agent=False):\n",
    "scores1 = ddpg_train(agent1, env, brain_name, num_agents, actor_model_name='actor_model_1', critic_model_name='critic_model_1', target_reward=0.5, n_episodes=1500)"
   ]
  },
  {
   "cell_type": "code",
   "execution_count": 41,
   "metadata": {},
   "outputs": [],
   "source": [
    "last_100_scores = deque(maxlen=100)\n",
    "mean_100_scores = []\n",
    "for score in scores1:\n",
    "    last_100_scores.append(score)\n",
    "    mean_100_scores.append(np.mean(last_100_scores))"
   ]
  },
  {
   "cell_type": "code",
   "execution_count": 42,
   "metadata": {},
   "outputs": [
    {
     "data": {
      "image/png": "[encoded data removed]",
      "text/plain": [
       "<Figure size 432x288 with 1 Axes>"
      ]
     },
     "metadata": {
      "needs_background": "light"
     },
     "output_type": "display_data"
    }
   ],
   "source": [
    "# plot the scores from the training\n",
    "Scores_plot1 = plt.figure()\n",
    "ax = Scores_plot1.add_subplot(111)\n",
    "plt.plot(np.arange(len(scores1)), scores1)\n",
    "plt.plot(np.arange(len(scores1)), mean_100_scores)\n",
    "plt.ylabel('Score')\n",
    "plt.xlabel('Episode #')\n",
    "plt.title('Agent 1')\n",
    "\n",
    "#plt.savefig(\"images/Scores_plot_agent2_maddpg.png\")\n",
    "plt.savefig(\"images/Scores_plot_agent1_ddpg.png\")\n",
    "plt.show()"
   ]
  },
  {
   "cell_type": "code",
   "execution_count": 43,
   "metadata": {},
   "outputs": [],
   "source": [
    "with open('ddpg/results/scores1.txt', 'w') as f:\n",
    "    for item in scores1:\n",
    "        f.write(\"%s\\n\" % item)"
   ]
  },
  {
   "cell_type": "markdown",
   "metadata": {},
   "source": [
    "### Define an MADDPG-agent"
   ]
  },
  {
   "cell_type": "code",
   "execution_count": 20,
   "metadata": {},
   "outputs": [],
   "source": [
    "actor_hidden_layers = [50, 50]\n",
    "critic_hidden_layers = [50, 50]\n",
    "agent2 = MADDPG_Agent(state_size, action_size, num_agents, 0, actor_hidden_layers, critic_hidden_layers, use_batch_norm=True)"
   ]
  },
  {
   "cell_type": "markdown",
   "metadata": {},
   "source": [
    "### Train the MADDPG-agent"
   ]
  },
  {
   "cell_type": "code",
   "execution_count": 21,
   "metadata": {},
   "outputs": [
    {
     "name": "stdout",
     "output_type": "stream",
     "text": [
      "Episode 10\tAverage Score: 0.00\tAverage last 100 episodes: 0.00\n",
      "Episode 20\tAverage Score: -0.00\tAverage last 100 episodes: -0.00\n",
      "Episode 30\tAverage Score: -0.00\tAverage last 100 episodes: -0.00\n",
      "Episode 40\tAverage Score: -0.00\tAverage last 100 episodes: -0.00\n",
      "Episode 50\tAverage Score: -0.00\tAverage last 100 episodes: -0.00\n",
      "Episode 60\tAverage Score: -0.00\tAverage last 100 episodes: -0.00\n",
      "Episode 70\tAverage Score: -0.00\tAverage last 100 episodes: -0.00\n",
      "Episode 80\tAverage Score: -0.00\tAverage last 100 episodes: -0.00\n",
      "Episode 90\tAverage Score: -0.00\tAverage last 100 episodes: -0.00\n",
      "Episode 100\tAverage Score: -0.00\tAverage last 100 episodes: -0.00\n",
      "Episode 110\tAverage Score: -0.00\tAverage last 100 episodes: -0.00\n",
      "Episode 120\tAverage Score: -0.00\tAverage last 100 episodes: -0.00\n",
      "Episode 130\tAverage Score: -0.00\tAverage last 100 episodes: -0.00\n",
      "Episode 140\tAverage Score: -0.00\tAverage last 100 episodes: -0.00\n",
      "Episode 150\tAverage Score: -0.00\tAverage last 100 episodes: -0.00\n",
      "Episode 160\tAverage Score: -0.00\tAverage last 100 episodes: -0.00\n",
      "Episode 170\tAverage Score: -0.00\tAverage last 100 episodes: -0.00\n",
      "Episode 180\tAverage Score: -0.00\tAverage last 100 episodes: -0.00\n",
      "Episode 190\tAverage Score: -0.00\tAverage last 100 episodes: -0.00\n",
      "Episode 200\tAverage Score: -0.00\tAverage last 100 episodes: -0.00\n",
      "Episode 210\tAverage Score: -0.00\tAverage last 100 episodes: -0.00\n",
      "Episode 220\tAverage Score: -0.00\tAverage last 100 episodes: -0.00\n",
      "Episode 230\tAverage Score: -0.00\tAverage last 100 episodes: -0.00\n",
      "Episode 240\tAverage Score: -0.00\tAverage last 100 episodes: -0.00\n",
      "Episode 250\tAverage Score: -0.00\tAverage last 100 episodes: -0.00\n",
      "Episode 260\tAverage Score: -0.00\tAverage last 100 episodes: -0.00\n",
      "Episode 270\tAverage Score: -0.00\tAverage last 100 episodes: -0.00\n",
      "Episode 280\tAverage Score: -0.00\tAverage last 100 episodes: -0.00\n",
      "Episode 290\tAverage Score: 0.00\tAverage last 100 episodes: -0.00\n",
      "Episode 300\tAverage Score: 0.00\tAverage last 100 episodes: -0.00\n",
      "Episode 310\tAverage Score: 0.00\tAverage last 100 episodes: -0.00\n",
      "Episode 320\tAverage Score: 0.00\tAverage last 100 episodes: -0.00\n",
      "Episode 330\tAverage Score: 0.00\tAverage last 100 episodes: -0.00\n",
      "Episode 340\tAverage Score: 0.00\tAverage last 100 episodes: -0.00\n",
      "Episode 350\tAverage Score: 0.00\tAverage last 100 episodes: -0.00\n",
      "Episode 360\tAverage Score: -0.00\tAverage last 100 episodes: -0.00\n",
      "Episode 370\tAverage Score: -0.00\tAverage last 100 episodes: -0.00\n",
      "Episode 380\tAverage Score: -0.00\tAverage last 100 episodes: -0.00\n",
      "Episode 390\tAverage Score: -0.00\tAverage last 100 episodes: -0.00\n",
      "Episode 400\tAverage Score: 0.00\tAverage last 100 episodes: -0.00\n",
      "Episode 410\tAverage Score: 0.00\tAverage last 100 episodes: -0.00\n",
      "Episode 420\tAverage Score: -0.00\tAverage last 100 episodes: -0.00\n",
      "Episode 430\tAverage Score: -0.00\tAverage last 100 episodes: -0.00\n",
      "Episode 440\tAverage Score: -0.00\tAverage last 100 episodes: -0.00\n",
      "Episode 450\tAverage Score: 0.01\tAverage last 100 episodes: -0.00\n",
      "Episode 460\tAverage Score: 0.01\tAverage last 100 episodes: 0.00\n",
      "Episode 470\tAverage Score: 0.01\tAverage last 100 episodes: 0.00\n",
      "Episode 480\tAverage Score: 0.01\tAverage last 100 episodes: 0.00\n",
      "Episode 490\tAverage Score: 0.01\tAverage last 100 episodes: 0.00\n",
      "Episode 500\tAverage Score: 0.01\tAverage last 100 episodes: 0.00\n",
      "Episode 510\tAverage Score: 0.01\tAverage last 100 episodes: 0.01\n",
      "Episode 520\tAverage Score: 0.01\tAverage last 100 episodes: 0.01\n",
      "Episode 530\tAverage Score: 0.01\tAverage last 100 episodes: 0.01\n",
      "Episode 540\tAverage Score: 0.01\tAverage last 100 episodes: 0.01\n",
      "Episode 550\tAverage Score: 0.01\tAverage last 100 episodes: 0.01\n",
      "Episode 560\tAverage Score: 0.00\tAverage last 100 episodes: 0.01\n",
      "Episode 570\tAverage Score: 0.01\tAverage last 100 episodes: 0.01\n",
      "Episode 580\tAverage Score: 0.01\tAverage last 100 episodes: 0.01\n",
      "Episode 590\tAverage Score: -0.00\tAverage last 100 episodes: 0.01\n",
      "Episode 600\tAverage Score: -0.00\tAverage last 100 episodes: 0.00\n",
      "Episode 610\tAverage Score: -0.00\tAverage last 100 episodes: 0.00\n",
      "Episode 620\tAverage Score: -0.00\tAverage last 100 episodes: 0.00\n",
      "Episode 630\tAverage Score: -0.00\tAverage last 100 episodes: 0.00\n",
      "Episode 640\tAverage Score: -0.00\tAverage last 100 episodes: -0.00\n",
      "Episode 650\tAverage Score: -0.00\tAverage last 100 episodes: -0.00\n",
      "Episode 660\tAverage Score: -0.00\tAverage last 100 episodes: -0.00\n",
      "Episode 670\tAverage Score: -0.00\tAverage last 100 episodes: -0.00\n",
      "Episode 680\tAverage Score: 0.01\tAverage last 100 episodes: -0.00\n",
      "Episode 690\tAverage Score: 0.01\tAverage last 100 episodes: -0.00\n",
      "Episode 700\tAverage Score: 0.01\tAverage last 100 episodes: -0.00\n",
      "Episode 710\tAverage Score: 0.00\tAverage last 100 episodes: -0.00\n",
      "Episode 720\tAverage Score: 0.00\tAverage last 100 episodes: 0.00\n",
      "Episode 730\tAverage Score: 0.01\tAverage last 100 episodes: 0.00\n",
      "Episode 740\tAverage Score: 0.00\tAverage last 100 episodes: 0.00\n",
      "Episode 750\tAverage Score: -0.00\tAverage last 100 episodes: 0.00\n",
      "Episode 760\tAverage Score: 0.01\tAverage last 100 episodes: 0.00\n",
      "Episode 770\tAverage Score: 0.01\tAverage last 100 episodes: 0.00\n",
      "Episode 780\tAverage Score: 0.00\tAverage last 100 episodes: 0.00\n",
      "Episode 790\tAverage Score: 0.01\tAverage last 100 episodes: 0.00\n",
      "Episode 800\tAverage Score: 0.00\tAverage last 100 episodes: 0.00\n",
      "Episode 810\tAverage Score: 0.00\tAverage last 100 episodes: 0.00\n",
      "Episode 820\tAverage Score: 0.00\tAverage last 100 episodes: 0.00\n",
      "Episode 830\tAverage Score: 0.00\tAverage last 100 episodes: 0.00\n",
      "Episode 840\tAverage Score: 0.01\tAverage last 100 episodes: 0.00\n",
      "Episode 850\tAverage Score: 0.01\tAverage last 100 episodes: 0.00\n",
      "Episode 860\tAverage Score: 0.01\tAverage last 100 episodes: 0.00\n",
      "Episode 870\tAverage Score: 0.02\tAverage last 100 episodes: 0.01\n",
      "Episode 880\tAverage Score: 0.02\tAverage last 100 episodes: 0.01\n",
      "Episode 890\tAverage Score: 0.02\tAverage last 100 episodes: 0.01\n",
      "Episode 900\tAverage Score: 0.02\tAverage last 100 episodes: 0.01\n",
      "Episode 910\tAverage Score: 0.01\tAverage last 100 episodes: 0.01\n",
      "Episode 920\tAverage Score: 0.01\tAverage last 100 episodes: 0.01\n",
      "Episode 930\tAverage Score: 0.00\tAverage last 100 episodes: 0.01\n",
      "Episode 940\tAverage Score: 0.01\tAverage last 100 episodes: 0.01\n",
      "Episode 950\tAverage Score: 0.01\tAverage last 100 episodes: 0.01\n",
      "Episode 960\tAverage Score: 0.01\tAverage last 100 episodes: 0.01\n",
      "Episode 970\tAverage Score: 0.01\tAverage last 100 episodes: 0.01\n",
      "Episode 980\tAverage Score: 0.01\tAverage last 100 episodes: 0.01\n",
      "Episode 990\tAverage Score: 0.02\tAverage last 100 episodes: 0.01\n",
      "Episode 1000\tAverage Score: 0.01\tAverage last 100 episodes: 0.01\n",
      "Episode 1010\tAverage Score: 0.01\tAverage last 100 episodes: 0.01\n",
      "Episode 1020\tAverage Score: 0.00\tAverage last 100 episodes: 0.01\n",
      "Episode 1030\tAverage Score: -0.00\tAverage last 100 episodes: 0.01\n",
      "Episode 1040\tAverage Score: 0.00\tAverage last 100 episodes: 0.01\n",
      "Episode 1050\tAverage Score: 0.01\tAverage last 100 episodes: 0.01\n",
      "Episode 1060\tAverage Score: 0.01\tAverage last 100 episodes: 0.01\n",
      "Episode 1070\tAverage Score: 0.01\tAverage last 100 episodes: 0.01\n",
      "Episode 1080\tAverage Score: 0.01\tAverage last 100 episodes: 0.01\n",
      "Episode 1090\tAverage Score: 0.02\tAverage last 100 episodes: 0.01\n",
      "Episode 1100\tAverage Score: 0.03\tAverage last 100 episodes: 0.01\n",
      "Episode 1110\tAverage Score: 0.04\tAverage last 100 episodes: 0.01\n",
      "Episode 1120\tAverage Score: 0.03\tAverage last 100 episodes: 0.01\n",
      "Episode 1130\tAverage Score: 0.03\tAverage last 100 episodes: 0.02\n",
      "Episode 1140\tAverage Score: 0.04\tAverage last 100 episodes: 0.02\n",
      "Episode 1150\tAverage Score: 0.05\tAverage last 100 episodes: 0.03\n",
      "Episode 1160\tAverage Score: 0.05\tAverage last 100 episodes: 0.03\n",
      "Episode 1170\tAverage Score: 0.05\tAverage last 100 episodes: 0.04\n",
      "Episode 1180\tAverage Score: 0.05\tAverage last 100 episodes: 0.04\n",
      "Episode 1190\tAverage Score: 0.03\tAverage last 100 episodes: 0.04\n",
      "Episode 1200\tAverage Score: 0.03\tAverage last 100 episodes: 0.04\n",
      "Episode 1210\tAverage Score: 0.03\tAverage last 100 episodes: 0.04\n",
      "Episode 1220\tAverage Score: 0.03\tAverage last 100 episodes: 0.04\n",
      "Episode 1230\tAverage Score: 0.02\tAverage last 100 episodes: 0.04\n",
      "Episode 1240\tAverage Score: 0.03\tAverage last 100 episodes: 0.04\n",
      "Episode 1250\tAverage Score: 0.02\tAverage last 100 episodes: 0.03\n",
      "Episode 1260\tAverage Score: 0.01\tAverage last 100 episodes: 0.03\n",
      "Episode 1270\tAverage Score: 0.01\tAverage last 100 episodes: 0.02\n"
     ]
    },
    {
     "name": "stdout",
     "output_type": "stream",
     "text": [
      "Episode 1280\tAverage Score: 0.01\tAverage last 100 episodes: 0.02\n",
      "Episode 1290\tAverage Score: 0.02\tAverage last 100 episodes: 0.02\n",
      "Episode 1300\tAverage Score: 0.02\tAverage last 100 episodes: 0.02\n",
      "Episode 1310\tAverage Score: 0.01\tAverage last 100 episodes: 0.02\n",
      "Episode 1320\tAverage Score: 0.02\tAverage last 100 episodes: 0.02\n",
      "Episode 1330\tAverage Score: 0.02\tAverage last 100 episodes: 0.01\n",
      "Episode 1340\tAverage Score: 0.03\tAverage last 100 episodes: 0.02\n",
      "Episode 1350\tAverage Score: 0.03\tAverage last 100 episodes: 0.02\n",
      "Episode 1360\tAverage Score: 0.02\tAverage last 100 episodes: 0.02\n",
      "Episode 1370\tAverage Score: 0.03\tAverage last 100 episodes: 0.02\n",
      "Episode 1380\tAverage Score: 0.04\tAverage last 100 episodes: 0.02\n",
      "Episode 1390\tAverage Score: 0.02\tAverage last 100 episodes: 0.02\n",
      "Episode 1400\tAverage Score: 0.02\tAverage last 100 episodes: 0.02\n",
      "Episode 1410\tAverage Score: 0.03\tAverage last 100 episodes: 0.03\n",
      "Episode 1420\tAverage Score: 0.03\tAverage last 100 episodes: 0.03\n",
      "Episode 1430\tAverage Score: 0.03\tAverage last 100 episodes: 0.03\n",
      "Episode 1440\tAverage Score: 0.03\tAverage last 100 episodes: 0.03\n",
      "Episode 1450\tAverage Score: 0.02\tAverage last 100 episodes: 0.03\n",
      "Episode 1460\tAverage Score: 0.02\tAverage last 100 episodes: 0.03\n",
      "Episode 1470\tAverage Score: 0.02\tAverage last 100 episodes: 0.02\n",
      "Episode 1480\tAverage Score: 0.02\tAverage last 100 episodes: 0.02\n",
      "Episode 1490\tAverage Score: 0.02\tAverage last 100 episodes: 0.02\n",
      "Episode 1500\tAverage Score: 0.03\tAverage last 100 episodes: 0.03\n",
      "Episode 1510\tAverage Score: 0.03\tAverage last 100 episodes: 0.02\n",
      "Episode 1520\tAverage Score: 0.03\tAverage last 100 episodes: 0.03\n",
      "Episode 1530\tAverage Score: 0.03\tAverage last 100 episodes: 0.02\n",
      "Episode 1540\tAverage Score: 0.03\tAverage last 100 episodes: 0.03\n",
      "Episode 1550\tAverage Score: 0.03\tAverage last 100 episodes: 0.03\n",
      "Episode 1560\tAverage Score: 0.02\tAverage last 100 episodes: 0.03\n",
      "Episode 1570\tAverage Score: 0.02\tAverage last 100 episodes: 0.03\n",
      "Episode 1580\tAverage Score: 0.02\tAverage last 100 episodes: 0.03\n",
      "Episode 1590\tAverage Score: 0.02\tAverage last 100 episodes: 0.03\n",
      "Episode 1600\tAverage Score: 0.02\tAverage last 100 episodes: 0.02\n",
      "Episode 1610\tAverage Score: 0.02\tAverage last 100 episodes: 0.02\n",
      "Episode 1620\tAverage Score: 0.02\tAverage last 100 episodes: 0.02\n",
      "Episode 1630\tAverage Score: 0.02\tAverage last 100 episodes: 0.02\n",
      "Episode 1640\tAverage Score: 0.02\tAverage last 100 episodes: 0.02\n",
      "Episode 1650\tAverage Score: 0.02\tAverage last 100 episodes: 0.02\n",
      "Episode 1660\tAverage Score: 0.02\tAverage last 100 episodes: 0.02\n",
      "Episode 1670\tAverage Score: 0.02\tAverage last 100 episodes: 0.02\n",
      "Episode 1680\tAverage Score: 0.02\tAverage last 100 episodes: 0.02\n",
      "Episode 1690\tAverage Score: 0.03\tAverage last 100 episodes: 0.02\n",
      "Episode 1700\tAverage Score: 0.03\tAverage last 100 episodes: 0.02\n",
      "Episode 1710\tAverage Score: 0.02\tAverage last 100 episodes: 0.02\n",
      "Episode 1720\tAverage Score: 0.03\tAverage last 100 episodes: 0.02\n",
      "Episode 1730\tAverage Score: 0.04\tAverage last 100 episodes: 0.02\n",
      "Episode 1740\tAverage Score: 0.03\tAverage last 100 episodes: 0.03\n",
      "Episode 1750\tAverage Score: 0.03\tAverage last 100 episodes: 0.03\n",
      "Episode 1760\tAverage Score: 0.03\tAverage last 100 episodes: 0.03\n",
      "Episode 1770\tAverage Score: 0.03\tAverage last 100 episodes: 0.03\n",
      "Episode 1780\tAverage Score: 0.03\tAverage last 100 episodes: 0.03\n",
      "Episode 1790\tAverage Score: 0.04\tAverage last 100 episodes: 0.03\n",
      "Episode 1800\tAverage Score: 0.05\tAverage last 100 episodes: 0.03\n",
      "Episode 1810\tAverage Score: 0.05\tAverage last 100 episodes: 0.04\n",
      "Episode 1820\tAverage Score: 0.03\tAverage last 100 episodes: 0.03\n",
      "Episode 1830\tAverage Score: 0.01\tAverage last 100 episodes: 0.03\n",
      "Episode 1840\tAverage Score: 0.01\tAverage last 100 episodes: 0.03\n",
      "Episode 1850\tAverage Score: 0.02\tAverage last 100 episodes: 0.03\n",
      "Episode 1860\tAverage Score: 0.03\tAverage last 100 episodes: 0.03\n",
      "Episode 1870\tAverage Score: 0.03\tAverage last 100 episodes: 0.03\n",
      "Episode 1880\tAverage Score: 0.03\tAverage last 100 episodes: 0.03\n",
      "Episode 1890\tAverage Score: 0.02\tAverage last 100 episodes: 0.03\n",
      "Episode 1900\tAverage Score: 0.04\tAverage last 100 episodes: 0.03\n",
      "Episode 1910\tAverage Score: 0.05\tAverage last 100 episodes: 0.03\n",
      "Episode 1920\tAverage Score: 0.05\tAverage last 100 episodes: 0.03\n",
      "Episode 1930\tAverage Score: 0.04\tAverage last 100 episodes: 0.03\n",
      "Episode 1940\tAverage Score: 0.02\tAverage last 100 episodes: 0.03\n",
      "Episode 1950\tAverage Score: 0.04\tAverage last 100 episodes: 0.04\n",
      "Episode 1960\tAverage Score: 0.07\tAverage last 100 episodes: 0.04\n",
      "Episode 1970\tAverage Score: 0.07\tAverage last 100 episodes: 0.04\n",
      "Episode 1980\tAverage Score: 0.07\tAverage last 100 episodes: 0.05\n",
      "Episode 1990\tAverage Score: 0.07\tAverage last 100 episodes: 0.05\n",
      "Episode 2000\tAverage Score: 0.06\tAverage last 100 episodes: 0.05\n",
      "Episode 2010\tAverage Score: 0.07\tAverage last 100 episodes: 0.06\n",
      "Episode 2020\tAverage Score: 0.10\tAverage last 100 episodes: 0.06\n",
      "Episode 2030\tAverage Score: 0.12\tAverage last 100 episodes: 0.07\n",
      "Episode 2040\tAverage Score: 0.09\tAverage last 100 episodes: 0.08\n",
      "Episode 2050\tAverage Score: 0.06\tAverage last 100 episodes: 0.08\n",
      "Episode 2060\tAverage Score: 0.06\tAverage last 100 episodes: 0.08\n",
      "Episode 2070\tAverage Score: 0.07\tAverage last 100 episodes: 0.08\n",
      "Episode 2080\tAverage Score: 0.08\tAverage last 100 episodes: 0.08\n",
      "Episode 2090\tAverage Score: 0.08\tAverage last 100 episodes: 0.08\n",
      "Episode 2100\tAverage Score: 0.08\tAverage last 100 episodes: 0.08\n",
      "Episode 2110\tAverage Score: 0.07\tAverage last 100 episodes: 0.08\n",
      "Episode 2120\tAverage Score: 0.07\tAverage last 100 episodes: 0.07\n",
      "Episode 2130\tAverage Score: 0.09\tAverage last 100 episodes: 0.07\n",
      "Episode 2140\tAverage Score: 0.13\tAverage last 100 episodes: 0.08\n",
      "Episode 2150\tAverage Score: 0.14\tAverage last 100 episodes: 0.09\n",
      "Episode 2160\tAverage Score: 0.11\tAverage last 100 episodes: 0.09\n",
      "Episode 2170\tAverage Score: 0.07\tAverage last 100 episodes: 0.09\n",
      "Episode 2180\tAverage Score: 0.04\tAverage last 100 episodes: 0.09\n",
      "Episode 2190\tAverage Score: 0.05\tAverage last 100 episodes: 0.08\n",
      "Episode 2200\tAverage Score: 0.06\tAverage last 100 episodes: 0.08\n",
      "Episode 2210\tAverage Score: 0.07\tAverage last 100 episodes: 0.08\n",
      "Episode 2220\tAverage Score: 0.06\tAverage last 100 episodes: 0.08\n",
      "Episode 2230\tAverage Score: 0.07\tAverage last 100 episodes: 0.08\n",
      "Episode 2240\tAverage Score: 0.09\tAverage last 100 episodes: 0.07\n",
      "Episode 2250\tAverage Score: 0.11\tAverage last 100 episodes: 0.07\n",
      "Episode 2260\tAverage Score: 0.11\tAverage last 100 episodes: 0.07\n",
      "Episode 2270\tAverage Score: 0.12\tAverage last 100 episodes: 0.08\n",
      "Episode 2280\tAverage Score: 0.14\tAverage last 100 episodes: 0.09\n",
      "Episode 2290\tAverage Score: 0.13\tAverage last 100 episodes: 0.10\n",
      "Episode 2300\tAverage Score: 0.10\tAverage last 100 episodes: 0.10\n",
      "Episode 2310\tAverage Score: 0.14\tAverage last 100 episodes: 0.11\n",
      "Episode 2320\tAverage Score: 0.15\tAverage last 100 episodes: 0.12\n",
      "Episode 2330\tAverage Score: 0.10\tAverage last 100 episodes: 0.12\n",
      "Episode 2340\tAverage Score: 0.13\tAverage last 100 episodes: 0.13\n",
      "Episode 2350\tAverage Score: 0.16\tAverage last 100 episodes: 0.13\n",
      "Episode 2360\tAverage Score: 0.14\tAverage last 100 episodes: 0.13\n",
      "Episode 2370\tAverage Score: 0.15\tAverage last 100 episodes: 0.13\n",
      "Episode 2380\tAverage Score: 0.13\tAverage last 100 episodes: 0.13\n",
      "Episode 2390\tAverage Score: 0.11\tAverage last 100 episodes: 0.13\n",
      "Episode 2400\tAverage Score: 0.09\tAverage last 100 episodes: 0.13\n",
      "Episode 2410\tAverage Score: 0.10\tAverage last 100 episodes: 0.12\n",
      "Episode 2420\tAverage Score: 0.16\tAverage last 100 episodes: 0.13\n",
      "Episode 2430\tAverage Score: 0.19\tAverage last 100 episodes: 0.14\n",
      "Episode 2440\tAverage Score: 0.19\tAverage last 100 episodes: 0.14\n",
      "Episode 2450\tAverage Score: 0.21\tAverage last 100 episodes: 0.15\n",
      "Episode 2460\tAverage Score: 0.21\tAverage last 100 episodes: 0.15\n",
      "Episode 2470\tAverage Score: 0.16\tAverage last 100 episodes: 0.15\n",
      "Episode 2480\tAverage Score: 0.12\tAverage last 100 episodes: 0.15\n",
      "Episode 2490\tAverage Score: 0.12\tAverage last 100 episodes: 0.16\n",
      "Episode 2500\tAverage Score: 0.22\tAverage last 100 episodes: 0.18\n",
      "Episode 2510\tAverage Score: 0.32\tAverage last 100 episodes: 0.20\n",
      "Episode 2520\tAverage Score: 0.42\tAverage last 100 episodes: 0.23\n",
      "Episode 2530\tAverage Score: 0.42\tAverage last 100 episodes: 0.24\n",
      "Episode 2540\tAverage Score: 0.42\tAverage last 100 episodes: 0.28\n"
     ]
    },
    {
     "name": "stdout",
     "output_type": "stream",
     "text": [
      "Episode 2550\tAverage Score: 0.32\tAverage last 100 episodes: 0.27\n",
      "Episode 2560\tAverage Score: 0.12\tAverage last 100 episodes: 0.26\n",
      "Episode 2570\tAverage Score: 0.12\tAverage last 100 episodes: 0.26\n",
      "Episode 2580\tAverage Score: 0.18\tAverage last 100 episodes: 0.27\n",
      "Episode 2590\tAverage Score: 0.26\tAverage last 100 episodes: 0.29\n",
      "Episode 2600\tAverage Score: 0.35\tAverage last 100 episodes: 0.30\n",
      "Episode 2610\tAverage Score: 0.82\tAverage last 100 episodes: 0.39\n",
      "Episode 2620\tAverage Score: 1.45\tAverage last 100 episodes: 0.50\n",
      "\n",
      "Environment solved in 2520 episodes!\tAverage Score: 0.50\n",
      "Episode 2630\tAverage Score: 1.52\tAverage last 100 episodes: 0.61\n",
      "Episode 2640\tAverage Score: 1.06\tAverage last 100 episodes: 0.63\n",
      "Episode 2650\tAverage Score: 0.98\tAverage last 100 episodes: 0.74\n",
      "Episode 2660\tAverage Score: 1.24\tAverage last 100 episodes: 0.86\n",
      "Episode 2670\tAverage Score: 1.33\tAverage last 100 episodes: 0.98\n",
      "Episode 2680\tAverage Score: 1.14\tAverage last 100 episodes: 1.05\n",
      "Episode 2690\tAverage Score: 1.00\tAverage last 100 episodes: 1.13\n",
      "Episode 2700\tAverage Score: 0.90\tAverage last 100 episodes: 1.16\n",
      "Episode 2710\tAverage Score: 0.73\tAverage last 100 episodes: 1.11\n",
      "Episode 2720\tAverage Score: 0.60\tAverage last 100 episodes: 0.99\n",
      "Episode 2730\tAverage Score: 0.56\tAverage last 100 episodes: 0.92\n",
      "Episode 2740\tAverage Score: 0.59\tAverage last 100 episodes: 0.89\n",
      "Episode 2750\tAverage Score: 0.69\tAverage last 100 episodes: 0.86\n",
      "Episode 2760\tAverage Score: 0.89\tAverage last 100 episodes: 0.82\n",
      "Episode 2770\tAverage Score: 0.87\tAverage last 100 episodes: 0.77\n",
      "Episode 2780\tAverage Score: 0.91\tAverage last 100 episodes: 0.78\n",
      "Episode 2790\tAverage Score: 0.94\tAverage last 100 episodes: 0.76\n",
      "Episode 2800\tAverage Score: 0.54\tAverage last 100 episodes: 0.71\n",
      "Episode 2810\tAverage Score: 0.37\tAverage last 100 episodes: 0.68\n",
      "Episode 2820\tAverage Score: 0.34\tAverage last 100 episodes: 0.65\n",
      "Episode 2830\tAverage Score: 0.13\tAverage last 100 episodes: 0.60\n",
      "Episode 2840\tAverage Score: 0.20\tAverage last 100 episodes: 0.58\n",
      "Episode 2850\tAverage Score: 0.31\tAverage last 100 episodes: 0.52\n",
      "Episode 2860\tAverage Score: 0.24\tAverage last 100 episodes: 0.45\n",
      "Episode 2870\tAverage Score: 0.35\tAverage last 100 episodes: 0.42\n",
      "Episode 2880\tAverage Score: 0.84\tAverage last 100 episodes: 0.43\n",
      "Episode 2890\tAverage Score: 0.98\tAverage last 100 episodes: 0.43\n",
      "Episode 2900\tAverage Score: 0.50\tAverage last 100 episodes: 0.42\n",
      "Episode 2910\tAverage Score: 0.32\tAverage last 100 episodes: 0.42\n",
      "Episode 2920\tAverage Score: 0.38\tAverage last 100 episodes: 0.43\n",
      "Episode 2930\tAverage Score: 0.51\tAverage last 100 episodes: 0.49\n",
      "Episode 2940\tAverage Score: 0.66\tAverage last 100 episodes: 0.52\n",
      "Episode 2950\tAverage Score: 0.42\tAverage last 100 episodes: 0.51\n",
      "Episode 2960\tAverage Score: 0.27\tAverage last 100 episodes: 0.53\n",
      "Episode 2970\tAverage Score: 0.70\tAverage last 100 episodes: 0.59\n",
      "Episode 2980\tAverage Score: 1.26\tAverage last 100 episodes: 0.62\n",
      "Episode 2990\tAverage Score: 1.49\tAverage last 100 episodes: 0.69\n",
      "Episode 3000\tAverage Score: 1.20\tAverage last 100 episodes: 0.76\n",
      "Finished training\n"
     ]
    }
   ],
   "source": [
    "scores2 = ddpg_train(agent2, env, brain_name, num_agents, actor_model_name='actor_model_ma2', critic_model_name='critic_model_ma2', target_reward=0.5, multi_agent=True)"
   ]
  },
  {
   "cell_type": "code",
   "execution_count": 22,
   "metadata": {},
   "outputs": [],
   "source": [
    "last_100_scores = deque(maxlen=100)\n",
    "mean_100_scores = []\n",
    "for score in scores2:\n",
    "    last_100_scores.append(score)\n",
    "    mean_100_scores.append(np.mean(last_100_scores))"
   ]
  },
  {
   "cell_type": "code",
   "execution_count": 25,
   "metadata": {},
   "outputs": [
    {
     "data": {
      "image/png": "[encoded data removed]",
      "text/plain": [
       "<Figure size 432x288 with 1 Axes>"
      ]
     },
     "metadata": {
      "needs_background": "light"
     },
     "output_type": "display_data"
    }
   ],
   "source": [
    "# plot the scores from the training\n",
    "Scores_plot2 = plt.figure()\n",
    "ax = Scores_plot2.add_subplot(111)\n",
    "plt.plot(np.arange(len(scores2)), scores2)\n",
    "plt.plot(np.arange(len(scores2)), mean_100_scores)\n",
    "plt.ylabel('Score')\n",
    "plt.xlabel('Episode #')\n",
    "plt.title('Agent 2')\n",
    "\n",
    "plt.savefig(\"images/Scores_plot_agent2_maddpg.png\")\n",
    "plt.show()"
   ]
  },
  {
   "cell_type": "code",
   "execution_count": 26,
   "metadata": {},
   "outputs": [],
   "source": [
    "with open('ddpg/results/scores2.txt', 'w') as f:\n",
    "    for item in scores2:\n",
    "        f.write(\"%s\\n\" % item)"
   ]
  },
  {
   "cell_type": "markdown",
   "metadata": {},
   "source": [
    "## Initialising agent from saved weights and evaluating performance\n",
    "Run the cell block below to load the pre-trained weights into the model.\n",
    "\n",
    "### DDPG Agent"
   ]
  },
  {
   "cell_type": "code",
   "execution_count": 32,
   "metadata": {},
   "outputs": [
    {
     "name": "stdout",
     "output_type": "stream",
     "text": [
      "Mean Score (for all agents): 0.3950000060722232\n",
      "Score for individual agents:\n",
      "[0.40000001 0.39000001]\n"
     ]
    }
   ],
   "source": [
    "actor_hidden_layers = [50, 50]\n",
    "critic_hidden_layers = [50, 50]\n",
    "agent_show1 = DDPG_Agent(state_size, action_size, num_agents, 0, actor_hidden_layers, critic_hidden_layers, use_batch_norm=True)\n",
    "ddpg_show(agent_show1, env, brain_name, num_agents, actor_model_names='ddpg/results/actor_model_1_end_train.pth')"
   ]
  },
  {
   "cell_type": "markdown",
   "metadata": {},
   "source": [
    "### MADDPG Agent"
   ]
  },
  {
   "cell_type": "code",
   "execution_count": 28,
   "metadata": {},
   "outputs": [
    {
     "name": "stdout",
     "output_type": "stream",
     "text": [
      "Mean Score (for all agents): 1.095000016503036\n",
      "Score for individual agents:\n",
      "[1.09000002 1.10000002]\n"
     ]
    }
   ],
   "source": [
    "\n",
    "actor_hidden_layers = [50, 50]\n",
    "critic_hidden_layers = [50, 50]\n",
    "agent_show2 = MADDPG_Agent(state_size, action_size, num_agents, 0, actor_hidden_layers, critic_hidden_layers, use_batch_norm=True)\n",
    "ddpg_show(agent_show2, env, brain_name, num_agents, actor_model_names=['ddpg/results/actor_model_ma2_agent_0_end_train.pth', 'ddpg/results/actor_model_ma2_agent_1_end_train.pth'], multi_agent=True)"
   ]
  },
  {
   "cell_type": "code",
   "execution_count": null,
   "metadata": {},
   "outputs": [],
   "source": []
  }
 ],
 "metadata": {
  "kernelspec": {
   "display_name": "drlnd",
   "language": "python",
   "name": "drlnd"
  },
  "language_info": {
   "codemirror_mode": {
    "name": "ipython",
    "version": 3
   },
   "file_extension": ".py",
   "mimetype": "text/x-python",
   "name": "python",
   "nbconvert_exporter": "python",
   "pygments_lexer": "ipython3",
   "version": "3.6.9"
  }
 },
 "nbformat": 4,
 "nbformat_minor": 2
}
